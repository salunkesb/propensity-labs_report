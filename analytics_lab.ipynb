{
  "nbformat": 4,
  "nbformat_minor": 0,
  "metadata": {
    "colab": {
      "provenance": []
    },
    "kernelspec": {
      "name": "python3",
      "display_name": "Python 3"
    },
    "language_info": {
      "name": "python"
    }
  },
  "cells": [
    {
      "cell_type": "code",
      "execution_count": null,
      "metadata": {
        "id": "eaWTHQNkPZuy"
      },
      "outputs": [],
      "source": [
        "pip install pyspark"
      ]
    },
    {
      "cell_type": "code",
      "source": [
        "#@title Default title text\n",
        "## Download Input dataset for analytics\n",
        "# https://propensity-labs-screening.s3.amazonaws.com/analytics/analytics_input.csv"
      ],
      "metadata": {
        "id": "OrMgxoJdS4iE"
      },
      "execution_count": null,
      "outputs": []
    },
    {
      "cell_type": "code",
      "source": [
        "#Create Spark Session"
      ],
      "metadata": {
        "id": "bJYXF2LoQTDy"
      },
      "execution_count": null,
      "outputs": []
    },
    {
      "cell_type": "code",
      "source": [
        "#Read CSV to Dataframe"
      ],
      "metadata": {
        "id": "6vynaG5uQVpa"
      },
      "execution_count": null,
      "outputs": []
    },
    {
      "cell_type": "code",
      "source": [
        "#Display Scheme"
      ],
      "metadata": {
        "id": "EgVO9UBuQYNi"
      },
      "execution_count": null,
      "outputs": []
    },
    {
      "cell_type": "code",
      "source": [
        "#Change Column names to remove spaces, lower case and replace spaces in column names with \"_\" (underscore)"
      ],
      "metadata": {
        "id": "O8yoK7csQbyc"
      },
      "execution_count": null,
      "outputs": []
    },
    {
      "cell_type": "code",
      "source": [
        "#Identify all rows with Null values for provider id"
      ],
      "metadata": {
        "id": "DXRoYwGVQjHK"
      },
      "execution_count": null,
      "outputs": []
    },
    {
      "cell_type": "code",
      "source": [
        "#Change fields with Payment information into numbers by using Lambda functions in python"
      ],
      "metadata": {
        "id": "zF-wpjH2RJ7h"
      },
      "execution_count": null,
      "outputs": []
    },
    {
      "cell_type": "code",
      "source": [
        "#Plot a Bar chart by state and \"Average Total Payments\" and zip code vs \"total_charges\""
      ],
      "metadata": {
        "id": "52t4pR-BR8qG"
      },
      "execution_count": null,
      "outputs": []
    },
    {
      "cell_type": "code",
      "source": [
        "#BONUS - Plot intersting statistics from the dataset"
      ],
      "metadata": {
        "id": "6unkHfqBSahu"
      },
      "execution_count": null,
      "outputs": []
    },
    {
      "cell_type": "code",
      "source": [
        "#Write the Dataset to a Parquet format partitioned by State"
      ],
      "metadata": {
        "id": "9G_U_KWzSfnq"
      },
      "execution_count": null,
      "outputs": []
    }
  ]
}